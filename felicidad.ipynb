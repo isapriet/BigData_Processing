{
 "cells": [
  {
   "cell_type": "code",
   "execution_count": 26,
   "metadata": {},
   "outputs": [],
   "source": [
    "# Importar las lbrerias a utilizar: pandas (almacenar y analizar), numpy (operaciones númericas) y matplotlib.pyplot (graficos)\n",
    "import pandas as pd\n",
    "import numpy as np\n",
    "import matplotlib.pyplot as plt"
   ]
  },
  {
   "cell_type": "code",
   "execution_count": 27,
   "metadata": {},
   "outputs": [],
   "source": [
    "# Cargar datos a analizar\n",
    "file_a = pd.read_csv('world-happiness-report.csv')\n",
    "file_b = pd.read_csv('world-happiness-report-2021.csv')"
   ]
  },
  {
   "cell_type": "code",
   "execution_count": 28,
   "metadata": {},
   "outputs": [
    {
     "data": {
      "text/html": [
       "<div>\n",
       "<style scoped>\n",
       "    .dataframe tbody tr th:only-of-type {\n",
       "        vertical-align: middle;\n",
       "    }\n",
       "\n",
       "    .dataframe tbody tr th {\n",
       "        vertical-align: top;\n",
       "    }\n",
       "\n",
       "    .dataframe thead th {\n",
       "        text-align: right;\n",
       "    }\n",
       "</style>\n",
       "<table border=\"1\" class=\"dataframe\">\n",
       "  <thead>\n",
       "    <tr style=\"text-align: right;\">\n",
       "      <th></th>\n",
       "      <th>Country name</th>\n",
       "      <th>year</th>\n",
       "      <th>Life Ladder</th>\n",
       "      <th>Log GDP per capita</th>\n",
       "      <th>Social support</th>\n",
       "      <th>Healthy life expectancy at birth</th>\n",
       "      <th>Freedom to make life choices</th>\n",
       "      <th>Generosity</th>\n",
       "      <th>Perceptions of corruption</th>\n",
       "      <th>Positive affect</th>\n",
       "      <th>Negative affect</th>\n",
       "    </tr>\n",
       "  </thead>\n",
       "  <tbody>\n",
       "    <tr>\n",
       "      <th>0</th>\n",
       "      <td>Afghanistan</td>\n",
       "      <td>2008</td>\n",
       "      <td>3.724</td>\n",
       "      <td>7.370</td>\n",
       "      <td>0.451</td>\n",
       "      <td>50.8</td>\n",
       "      <td>0.718</td>\n",
       "      <td>0.168</td>\n",
       "      <td>0.882</td>\n",
       "      <td>0.518</td>\n",
       "      <td>0.258</td>\n",
       "    </tr>\n",
       "    <tr>\n",
       "      <th>1</th>\n",
       "      <td>Afghanistan</td>\n",
       "      <td>2009</td>\n",
       "      <td>4.402</td>\n",
       "      <td>7.540</td>\n",
       "      <td>0.552</td>\n",
       "      <td>51.2</td>\n",
       "      <td>0.679</td>\n",
       "      <td>0.190</td>\n",
       "      <td>0.850</td>\n",
       "      <td>0.584</td>\n",
       "      <td>0.237</td>\n",
       "    </tr>\n",
       "    <tr>\n",
       "      <th>2</th>\n",
       "      <td>Afghanistan</td>\n",
       "      <td>2010</td>\n",
       "      <td>4.758</td>\n",
       "      <td>7.647</td>\n",
       "      <td>0.539</td>\n",
       "      <td>51.6</td>\n",
       "      <td>0.600</td>\n",
       "      <td>0.121</td>\n",
       "      <td>0.707</td>\n",
       "      <td>0.618</td>\n",
       "      <td>0.275</td>\n",
       "    </tr>\n",
       "  </tbody>\n",
       "</table>\n",
       "</div>"
      ],
      "text/plain": [
       "  Country name  year  Life Ladder  Log GDP per capita  Social support  \\\n",
       "0  Afghanistan  2008        3.724               7.370           0.451   \n",
       "1  Afghanistan  2009        4.402               7.540           0.552   \n",
       "2  Afghanistan  2010        4.758               7.647           0.539   \n",
       "\n",
       "   Healthy life expectancy at birth  Freedom to make life choices  Generosity  \\\n",
       "0                              50.8                         0.718       0.168   \n",
       "1                              51.2                         0.679       0.190   \n",
       "2                              51.6                         0.600       0.121   \n",
       "\n",
       "   Perceptions of corruption  Positive affect  Negative affect  \n",
       "0                      0.882            0.518            0.258  \n",
       "1                      0.850            0.584            0.237  \n",
       "2                      0.707            0.618            0.275  "
      ]
     },
     "execution_count": 28,
     "metadata": {},
     "output_type": "execute_result"
    }
   ],
   "source": [
    "# Crear dataframe df_a\n",
    "df_a = pd.DataFrame(file_a)\n",
    "df_a.head(3)"
   ]
  },
  {
   "cell_type": "code",
   "execution_count": 29,
   "metadata": {},
   "outputs": [
    {
     "data": {
      "text/html": [
       "<div>\n",
       "<style scoped>\n",
       "    .dataframe tbody tr th:only-of-type {\n",
       "        vertical-align: middle;\n",
       "    }\n",
       "\n",
       "    .dataframe tbody tr th {\n",
       "        vertical-align: top;\n",
       "    }\n",
       "\n",
       "    .dataframe thead th {\n",
       "        text-align: right;\n",
       "    }\n",
       "</style>\n",
       "<table border=\"1\" class=\"dataframe\">\n",
       "  <thead>\n",
       "    <tr style=\"text-align: right;\">\n",
       "      <th></th>\n",
       "      <th>Country name</th>\n",
       "      <th>Regional indicator</th>\n",
       "      <th>Ladder score</th>\n",
       "      <th>Standard error of ladder score</th>\n",
       "      <th>upperwhisker</th>\n",
       "      <th>lowerwhisker</th>\n",
       "      <th>Logged GDP per capita</th>\n",
       "      <th>Social support</th>\n",
       "      <th>Healthy life expectancy</th>\n",
       "      <th>Freedom to make life choices</th>\n",
       "      <th>Generosity</th>\n",
       "      <th>Perceptions of corruption</th>\n",
       "      <th>Ladder score in Dystopia</th>\n",
       "      <th>Explained by: Log GDP per capita</th>\n",
       "      <th>Explained by: Social support</th>\n",
       "      <th>Explained by: Healthy life expectancy</th>\n",
       "      <th>Explained by: Freedom to make life choices</th>\n",
       "      <th>Explained by: Generosity</th>\n",
       "      <th>Explained by: Perceptions of corruption</th>\n",
       "      <th>Dystopia + residual</th>\n",
       "    </tr>\n",
       "  </thead>\n",
       "  <tbody>\n",
       "    <tr>\n",
       "      <th>0</th>\n",
       "      <td>Finland</td>\n",
       "      <td>Western Europe</td>\n",
       "      <td>7.842</td>\n",
       "      <td>0.032</td>\n",
       "      <td>7.904</td>\n",
       "      <td>7.780</td>\n",
       "      <td>10.775</td>\n",
       "      <td>0.954</td>\n",
       "      <td>72.0</td>\n",
       "      <td>0.949</td>\n",
       "      <td>-0.098</td>\n",
       "      <td>0.186</td>\n",
       "      <td>2.43</td>\n",
       "      <td>1.446</td>\n",
       "      <td>1.106</td>\n",
       "      <td>0.741</td>\n",
       "      <td>0.691</td>\n",
       "      <td>0.124</td>\n",
       "      <td>0.481</td>\n",
       "      <td>3.253</td>\n",
       "    </tr>\n",
       "    <tr>\n",
       "      <th>1</th>\n",
       "      <td>Denmark</td>\n",
       "      <td>Western Europe</td>\n",
       "      <td>7.620</td>\n",
       "      <td>0.035</td>\n",
       "      <td>7.687</td>\n",
       "      <td>7.552</td>\n",
       "      <td>10.933</td>\n",
       "      <td>0.954</td>\n",
       "      <td>72.7</td>\n",
       "      <td>0.946</td>\n",
       "      <td>0.030</td>\n",
       "      <td>0.179</td>\n",
       "      <td>2.43</td>\n",
       "      <td>1.502</td>\n",
       "      <td>1.108</td>\n",
       "      <td>0.763</td>\n",
       "      <td>0.686</td>\n",
       "      <td>0.208</td>\n",
       "      <td>0.485</td>\n",
       "      <td>2.868</td>\n",
       "    </tr>\n",
       "    <tr>\n",
       "      <th>2</th>\n",
       "      <td>Switzerland</td>\n",
       "      <td>Western Europe</td>\n",
       "      <td>7.571</td>\n",
       "      <td>0.036</td>\n",
       "      <td>7.643</td>\n",
       "      <td>7.500</td>\n",
       "      <td>11.117</td>\n",
       "      <td>0.942</td>\n",
       "      <td>74.4</td>\n",
       "      <td>0.919</td>\n",
       "      <td>0.025</td>\n",
       "      <td>0.292</td>\n",
       "      <td>2.43</td>\n",
       "      <td>1.566</td>\n",
       "      <td>1.079</td>\n",
       "      <td>0.816</td>\n",
       "      <td>0.653</td>\n",
       "      <td>0.204</td>\n",
       "      <td>0.413</td>\n",
       "      <td>2.839</td>\n",
       "    </tr>\n",
       "  </tbody>\n",
       "</table>\n",
       "</div>"
      ],
      "text/plain": [
       "  Country name Regional indicator  Ladder score  \\\n",
       "0      Finland     Western Europe         7.842   \n",
       "1      Denmark     Western Europe         7.620   \n",
       "2  Switzerland     Western Europe         7.571   \n",
       "\n",
       "   Standard error of ladder score  upperwhisker  lowerwhisker  \\\n",
       "0                           0.032         7.904         7.780   \n",
       "1                           0.035         7.687         7.552   \n",
       "2                           0.036         7.643         7.500   \n",
       "\n",
       "   Logged GDP per capita  Social support  Healthy life expectancy  \\\n",
       "0                 10.775           0.954                     72.0   \n",
       "1                 10.933           0.954                     72.7   \n",
       "2                 11.117           0.942                     74.4   \n",
       "\n",
       "   Freedom to make life choices  Generosity  Perceptions of corruption  \\\n",
       "0                         0.949      -0.098                      0.186   \n",
       "1                         0.946       0.030                      0.179   \n",
       "2                         0.919       0.025                      0.292   \n",
       "\n",
       "   Ladder score in Dystopia  Explained by: Log GDP per capita  \\\n",
       "0                      2.43                             1.446   \n",
       "1                      2.43                             1.502   \n",
       "2                      2.43                             1.566   \n",
       "\n",
       "   Explained by: Social support  Explained by: Healthy life expectancy  \\\n",
       "0                         1.106                                  0.741   \n",
       "1                         1.108                                  0.763   \n",
       "2                         1.079                                  0.816   \n",
       "\n",
       "   Explained by: Freedom to make life choices  Explained by: Generosity  \\\n",
       "0                                       0.691                     0.124   \n",
       "1                                       0.686                     0.208   \n",
       "2                                       0.653                     0.204   \n",
       "\n",
       "   Explained by: Perceptions of corruption  Dystopia + residual  \n",
       "0                                    0.481                3.253  \n",
       "1                                    0.485                2.868  \n",
       "2                                    0.413                2.839  "
      ]
     },
     "execution_count": 29,
     "metadata": {},
     "output_type": "execute_result"
    }
   ],
   "source": [
    "# Crear dataframe df_b\n",
    "df_b = pd.DataFrame(file_b)\n",
    "df_b.head(3)"
   ]
  },
  {
   "cell_type": "code",
   "execution_count": 30,
   "metadata": {},
   "outputs": [
    {
     "data": {
      "text/plain": [
       "0    2021\n",
       "1    2021\n",
       "2    2021\n",
       "Name: Year, dtype: int64"
      ]
     },
     "execution_count": 30,
     "metadata": {},
     "output_type": "execute_result"
    }
   ],
   "source": [
    "# Crear la columna Year en el df_b ya que no la contienen porque todos los datos pertenecen al mismo año (2021)\n",
    "df_b[\"Year\"] = 2021\n",
    "df_b.Year.head(3)\n"
   ]
  },
  {
   "cell_type": "code",
   "execution_count": 31,
   "metadata": {},
   "outputs": [
    {
     "name": "stdout",
     "output_type": "stream",
     "text": [
      "<class 'pandas.core.frame.DataFrame'>\n",
      "RangeIndex: 1949 entries, 0 to 1948\n",
      "Data columns (total 11 columns):\n",
      " #   Column                        Non-Null Count  Dtype  \n",
      "---  ------                        --------------  -----  \n",
      " 0   Country                       1949 non-null   object \n",
      " 1   Year                          1949 non-null   int64  \n",
      " 2   Ladder score                  1949 non-null   float64\n",
      " 3   GDP                           1913 non-null   float64\n",
      " 4   Social support                1936 non-null   float64\n",
      " 5   Healthy life expectancy       1894 non-null   float64\n",
      " 6   Freedom to make life choices  1917 non-null   float64\n",
      " 7   Generosity                    1860 non-null   float64\n",
      " 8   Perceptions of corruption     1839 non-null   float64\n",
      " 9   Positive affect               1927 non-null   float64\n",
      " 10  Negative affect               1933 non-null   float64\n",
      "dtypes: float64(9), int64(1), object(1)\n",
      "memory usage: 167.6+ KB\n"
     ]
    }
   ],
   "source": [
    "# Renombrar las columnas de df_a\n",
    "df_a = df_a.rename(columns = {'Country name' : 'Country'})\n",
    "df_a = df_a.rename(columns = {'year' : 'Year'})\n",
    "df_a = df_a.rename(columns = {'Life Ladder' : 'Ladder score'})\n",
    "df_a = df_a.rename(columns = {'Healthy life expectancy at birth' : 'Healthy life expectancy'})\n",
    "df_a = df_a.rename(columns = {'Log GDP per capita' : 'GDP'})\n",
    "df_a.info()"
   ]
  },
  {
   "cell_type": "code",
   "execution_count": 32,
   "metadata": {},
   "outputs": [
    {
     "name": "stdout",
     "output_type": "stream",
     "text": [
      "<class 'pandas.core.frame.DataFrame'>\n",
      "RangeIndex: 149 entries, 0 to 148\n",
      "Data columns (total 21 columns):\n",
      " #   Column                                      Non-Null Count  Dtype  \n",
      "---  ------                                      --------------  -----  \n",
      " 0   Country                                     149 non-null    object \n",
      " 1   Continent                                   149 non-null    object \n",
      " 2   Ladder score                                149 non-null    float64\n",
      " 3   Standard error of ladder score              149 non-null    float64\n",
      " 4   upperwhisker                                149 non-null    float64\n",
      " 5   lowerwhisker                                149 non-null    float64\n",
      " 6   GDP                                         149 non-null    float64\n",
      " 7   Social support                              149 non-null    float64\n",
      " 8   Healthy life expectancy                     149 non-null    float64\n",
      " 9   Freedom to make life choices                149 non-null    float64\n",
      " 10  Generosity                                  149 non-null    float64\n",
      " 11  Perceptions of corruption                   149 non-null    float64\n",
      " 12  Ladder score in Dystopia                    149 non-null    float64\n",
      " 13  Explained by: Log GDP per capita            149 non-null    float64\n",
      " 14  Explained by: Social support                149 non-null    float64\n",
      " 15  Explained by: Healthy life expectancy       149 non-null    float64\n",
      " 16  Explained by: Freedom to make life choices  149 non-null    float64\n",
      " 17  Explained by: Generosity                    149 non-null    float64\n",
      " 18  Explained by: Perceptions of corruption     149 non-null    float64\n",
      " 19  Dystopia + residual                         149 non-null    float64\n",
      " 20  Year                                        149 non-null    int64  \n",
      "dtypes: float64(18), int64(1), object(2)\n",
      "memory usage: 24.6+ KB\n"
     ]
    }
   ],
   "source": [
    "# Renombrar las columnas de df_b\n",
    "df_b = df_b.rename(columns = {'Country name' : 'Country'})\n",
    "df_b = df_b.rename(columns = {'Regional indicator' : 'Continent'})\n",
    "df_b= df_b.rename(columns = {'Logged GDP per capita' : 'GDP'})\n",
    "\n",
    "df_b.info()"
   ]
  },
  {
   "cell_type": "code",
   "execution_count": 33,
   "metadata": {},
   "outputs": [
    {
     "name": "stdout",
     "output_type": "stream",
     "text": [
      "<class 'pandas.core.frame.DataFrame'>\n",
      "RangeIndex: 2098 entries, 0 to 2097\n",
      "Data columns (total 23 columns):\n",
      " #   Column                                      Non-Null Count  Dtype  \n",
      "---  ------                                      --------------  -----  \n",
      " 0   Country                                     2098 non-null   object \n",
      " 1   Year                                        2098 non-null   int64  \n",
      " 2   Ladder score                                2098 non-null   float64\n",
      " 3   Gdp                                         2062 non-null   float64\n",
      " 4   Social support                              2085 non-null   float64\n",
      " 5   Healthy life expectancy                     2043 non-null   float64\n",
      " 6   Freedom to make life choices                2066 non-null   float64\n",
      " 7   Generosity                                  2009 non-null   float64\n",
      " 8   Perceptions of corruption                   1988 non-null   float64\n",
      " 9   Positive affect                             1927 non-null   float64\n",
      " 10  Negative affect                             1933 non-null   float64\n",
      " 11  Continent                                   149 non-null    object \n",
      " 12  Standard error of ladder score              149 non-null    float64\n",
      " 13  Upperwhisker                                149 non-null    float64\n",
      " 14  Lowerwhisker                                149 non-null    float64\n",
      " 15  Ladder score in dystopia                    149 non-null    float64\n",
      " 16  Explained by: log gdp per capita            149 non-null    float64\n",
      " 17  Explained by: social support                149 non-null    float64\n",
      " 18  Explained by: healthy life expectancy       149 non-null    float64\n",
      " 19  Explained by: freedom to make life choices  149 non-null    float64\n",
      " 20  Explained by: generosity                    149 non-null    float64\n",
      " 21  Explained by: perceptions of corruption     149 non-null    float64\n",
      " 22  Dystopia + residual                         149 non-null    float64\n",
      "dtypes: float64(20), int64(1), object(2)\n",
      "memory usage: 377.1+ KB\n"
     ]
    }
   ],
   "source": [
    "# Convertir los nombres de las columnas a minúsculas en ambos DataFrames\n",
    "df_a.columns = df_a.columns.str.lower()\n",
    "df_b.columns = df_b.columns.str.lower()\n",
    "\n",
    "# Concatenar ambos DataFrames, ignorando los índices existentes y creando uno nuevo\n",
    "df_principal= pd.concat([df_a, df_b], ignore_index=True)\n",
    "\n",
    "# Eliminar las filas duplicadas en el nuevo DataFrame\n",
    "df_principal = df_principal.drop_duplicates()\n",
    "\n",
    "# Convertir los nombres de las columnas a mayúsculas iniciales (capitalize)\n",
    "df_principal.columns = [col.capitalize() for col in df_principal.columns]\n",
    "\n",
    "# Reiniciar los índices del DataFrame resultante y eliminar los índices anteriores\n",
    "df_principal = df_principal.reset_index(drop=True)\n",
    "df_principal.info()"
   ]
  },
  {
   "cell_type": "markdown",
   "metadata": {},
   "source": [
    "1. ¿Cuál es el país más \"feliz\" del 2021 segun el data? (Considerar que la columna \"Ladder score\", mayor número, más feliz es el país)"
   ]
  },
  {
   "cell_type": "code",
   "execution_count": 34,
   "metadata": {},
   "outputs": [
    {
     "data": {
      "text/html": [
       "<div>\n",
       "<style scoped>\n",
       "    .dataframe tbody tr th:only-of-type {\n",
       "        vertical-align: middle;\n",
       "    }\n",
       "\n",
       "    .dataframe tbody tr th {\n",
       "        vertical-align: top;\n",
       "    }\n",
       "\n",
       "    .dataframe thead th {\n",
       "        text-align: right;\n",
       "    }\n",
       "</style>\n",
       "<table border=\"1\" class=\"dataframe\">\n",
       "  <thead>\n",
       "    <tr style=\"text-align: right;\">\n",
       "      <th></th>\n",
       "      <th>Country</th>\n",
       "      <th>Year</th>\n",
       "      <th>Ladder score</th>\n",
       "      <th>Gdp</th>\n",
       "      <th>Social support</th>\n",
       "      <th>Healthy life expectancy</th>\n",
       "      <th>Freedom to make life choices</th>\n",
       "      <th>Generosity</th>\n",
       "      <th>Perceptions of corruption</th>\n",
       "      <th>Positive affect</th>\n",
       "      <th>...</th>\n",
       "      <th>Upperwhisker</th>\n",
       "      <th>Lowerwhisker</th>\n",
       "      <th>Ladder score in dystopia</th>\n",
       "      <th>Explained by: log gdp per capita</th>\n",
       "      <th>Explained by: social support</th>\n",
       "      <th>Explained by: healthy life expectancy</th>\n",
       "      <th>Explained by: freedom to make life choices</th>\n",
       "      <th>Explained by: generosity</th>\n",
       "      <th>Explained by: perceptions of corruption</th>\n",
       "      <th>Dystopia + residual</th>\n",
       "    </tr>\n",
       "  </thead>\n",
       "  <tbody>\n",
       "    <tr>\n",
       "      <th>1949</th>\n",
       "      <td>Finland</td>\n",
       "      <td>2021</td>\n",
       "      <td>7.842</td>\n",
       "      <td>10.775</td>\n",
       "      <td>0.954</td>\n",
       "      <td>72.0</td>\n",
       "      <td>0.949</td>\n",
       "      <td>-0.098</td>\n",
       "      <td>0.186</td>\n",
       "      <td>NaN</td>\n",
       "      <td>...</td>\n",
       "      <td>7.904</td>\n",
       "      <td>7.78</td>\n",
       "      <td>2.43</td>\n",
       "      <td>1.446</td>\n",
       "      <td>1.106</td>\n",
       "      <td>0.741</td>\n",
       "      <td>0.691</td>\n",
       "      <td>0.124</td>\n",
       "      <td>0.481</td>\n",
       "      <td>3.253</td>\n",
       "    </tr>\n",
       "  </tbody>\n",
       "</table>\n",
       "<p>1 rows × 23 columns</p>\n",
       "</div>"
      ],
      "text/plain": [
       "      Country  Year  Ladder score     Gdp  Social support  \\\n",
       "1949  Finland  2021         7.842  10.775           0.954   \n",
       "\n",
       "      Healthy life expectancy  Freedom to make life choices  Generosity  \\\n",
       "1949                     72.0                         0.949      -0.098   \n",
       "\n",
       "      Perceptions of corruption  Positive affect  ...  Upperwhisker  \\\n",
       "1949                      0.186              NaN  ...         7.904   \n",
       "\n",
       "     Lowerwhisker  Ladder score in dystopia  Explained by: log gdp per capita  \\\n",
       "1949         7.78                      2.43                             1.446   \n",
       "\n",
       "      Explained by: social support  Explained by: healthy life expectancy  \\\n",
       "1949                         1.106                                  0.741   \n",
       "\n",
       "      Explained by: freedom to make life choices  Explained by: generosity  \\\n",
       "1949                                       0.691                     0.124   \n",
       "\n",
       "      Explained by: perceptions of corruption  Dystopia + residual  \n",
       "1949                                    0.481                3.253  \n",
       "\n",
       "[1 rows x 23 columns]"
      ]
     },
     "execution_count": 34,
     "metadata": {},
     "output_type": "execute_result"
    }
   ],
   "source": [
    "# Filtrar el DataFrame 'df_principal' para obtener las filas donde la columna 'Year' es igual a 2021\n",
    "year_2021 = df_principal[df_principal['Year'] == 2021]\n",
    "\n",
    "# Encontrar el país más feliz (la fila con el valor más alto en 'Ladder score') en el DataFrame filtrado 'year_2021'\n",
    "happiest_country_2021 = year_2021.nlargest(1, 'Ladder score')\n",
    "\n",
    "happiest_country_2021"
   ]
  },
  {
   "cell_type": "markdown",
   "metadata": {},
   "source": [
    "2. ¿Cuál es el país mas \"feliz\" del 2021 por continente segun el data?"
   ]
  },
  {
   "cell_type": "code",
   "execution_count": 35,
   "metadata": {},
   "outputs": [
    {
     "data": {
      "image/png": "[encoded data removed]",
      "text/plain": [
       "<Figure size 800x400 with 1 Axes>"
      ]
     },
     "metadata": {},
     "output_type": "display_data"
    }
   ],
   "source": [
    "\n",
    "# Filtrar el DataFrame 'df_principal' para obtener las filas donde la columna 'Year' es igual a 2021\n",
    "year_2021 = df_principal[df_principal['Year'] == 2021]\n",
    "\n",
    "# Agrupar los datos por la columna 'Continent' y encontrar el país más feliz en cada continente para el año 2021\n",
    "happiest_by_continent_2021 = year_2021.groupby('Continent', group_keys=False).apply(lambda x: x.nlargest(1, 'Ladder score'))\n",
    "\n",
    "# Seleccionar las columnas relevantes y ordenar el DataFrame por el 'Ladder score' en orden descendente\n",
    "happiest_by_continent_2021 = happiest_by_continent_2021[['Continent', 'Country', 'Ladder score']].sort_values(by='Ladder score', ascending=False)\n",
    "\n",
    "# Crear una tabla con los datos de 'happiest_by_continent_2021' y personalizar su apariencia\n",
    "fig, ax = plt.subplots(figsize=(8, 4))\n",
    "ax.axis('off')\n",
    "table = ax.table(cellText=happiest_by_continent_2021.values,\n",
    "                 colLabels=happiest_by_continent_2021.columns,\n",
    "                 cellLoc='center',\n",
    "                 loc='center')\n",
    "\n",
    "table.auto_set_font_size(False)\n",
    "table.set_fontsize(10)\n",
    "table.scale(2.5, 2.5)\n",
    "\n",
    "# Guardar la figura como una imagen y mostrarla\n",
    "plt.savefig('tabla_resultados_continent.png', bbox_inches='tight', pad_inches=0.5)\n",
    "plt.show()"
   ]
  },
  {
   "cell_type": "markdown",
   "metadata": {},
   "source": [
    "3. ¿Cuál es el país que más veces ocupó el primer lugar todos los años?"
   ]
  },
  {
   "cell_type": "code",
   "execution_count": 36,
   "metadata": {},
   "outputs": [
    {
     "name": "stdout",
     "output_type": "stream",
     "text": [
      "País que más veces ocupó el primer lugar: Denmark\n",
      "Cantidad de veces: 7\n"
     ]
    }
   ],
   "source": [
    "# Agrupar el DataFrame 'df_principal' por año y encontrar el país con el 'Ladder score' máximo para cada año\n",
    "top_countries_by_year = df_principal.groupby('Year').apply(lambda x: x.loc[x['Ladder score'].idxmax()])\n",
    "\n",
    "# Contar la cantidad de veces que cada país aparece como el país con el 'Ladder score' máximo a lo largo de los años\n",
    "first_place_counts = top_countries_by_year.groupby('Country').size()\n",
    "\n",
    "# Encontrar el país que más veces ocupó el primer lugar\n",
    "most_frequent_top_country = first_place_counts.idxmax()\n",
    "\n",
    "# Encontrar la cantidad de veces que el país más frecuente ocupó el primer lugar\n",
    "most_frequent_top_country_count = first_place_counts.max()\n",
    "\n",
    "print(f\"País que más veces ocupó el primer lugar: {most_frequent_top_country}\")\n",
    "print(f\"Cantidad de veces: {most_frequent_top_country_count}\")"
   ]
  },
  {
   "cell_type": "markdown",
   "metadata": {},
   "source": [
    "4. ¿Qué puesto de Felicidad tiene el país con mayor GDP del 2020?"
   ]
  },
  {
   "cell_type": "code",
   "execution_count": 37,
   "metadata": {},
   "outputs": [
    {
     "name": "stdout",
     "output_type": "stream",
     "text": [
      "El país con el mayor GDP en 2020 es Ireland.\n",
      "Su indice de Felicidad es 7.035.\n"
     ]
    }
   ],
   "source": [
    "# Filtrar el DataFrame 'df_principal' para obtener solo las filas correspondientes al año 2020\n",
    "df_2020 = df_principal[df_principal['Year'] == 2020]\n",
    "\n",
    "# Encontrar el país con el GDP en el año 2020\n",
    "country_with_max_gdp = df_2020.loc[df_2020['Gdp'].idxmax(), 'Country']\n",
    "\n",
    "# Encontrar la posición en el ranking de felicidad (Ladder score) del país con el máximo GDP en 2020\n",
    "happiness_rank_of_max_gdp = df_2020[df_2020['Country'] == country_with_max_gdp]['Ladder score'].values[0]\n",
    "\n",
    "print(f\"El país con el mayor GDP en 2020 es {country_with_max_gdp}.\")\n",
    "print(f\"Su indice de Felicidad es {happiness_rank_of_max_gdp}.\")\n"
   ]
  },
  {
   "cell_type": "markdown",
   "metadata": {},
   "source": [
    "5. ¿En que porcentaje a variado a nivel mundial el GDP promedio del 2020 respecto al 2021? ¿Aumentó o disminuyo?"
   ]
  },
  {
   "cell_type": "code",
   "execution_count": 38,
   "metadata": {},
   "outputs": [
    {
     "name": "stdout",
     "output_type": "stream",
     "text": [
      "El GDP promedio a nivel mundial varió en un 3.27% desde 2020 hasta 2021.\n",
      "El GDP disminuyó.\n"
     ]
    }
   ],
   "source": [
    "# Filtra el DataFrame 'df_principal' para obtener solo las filas correspondientes al año 2020 y 2021\n",
    "df_2020 = df_principal[df_principal['Year'] == 2020]\n",
    "df_2021 = df_principal[df_principal['Year'] == 2021]\n",
    "\n",
    "# Calcular el promedio del GDP para el año 2020 y 2021\n",
    "gdp_mean_2020 = df_2020['Gdp'].mean()\n",
    "gdp_mean_2021 = df_2021['Gdp'].mean()\n",
    "\n",
    "# Calcular el porcentaje de cambio entre los promedios de GDP de 2021 y 2020\n",
    "percentage_change = ((gdp_mean_2021 - gdp_mean_2020) / gdp_mean_2020) * 100\n",
    "\n",
    "# Determinar si el cambio fue un aumento o una disminución y asigna el resultado a la variable 'change_status'\n",
    "change_status = \"aumentó\" if percentage_change > 0 else \"disminuyó\"\n",
    "\n",
    "print(f\"El GDP promedio a nivel mundial varió en un {abs(percentage_change):.2f}% desde 2020 hasta 2021.\")\n",
    "print(f\"El GDP {change_status}.\")\n"
   ]
  },
  {
   "cell_type": "markdown",
   "metadata": {},
   "source": [
    "6. ¿Cuál es el pais con mayor esperanza de vida saludable (\"Healthy life expectancy\")?"
   ]
  },
  {
   "cell_type": "code",
   "execution_count": 39,
   "metadata": {},
   "outputs": [
    {
     "name": "stdout",
     "output_type": "stream",
     "text": [
      "El país con la mayor expectativa de vida saludable en 2021 es Singapore.\n",
      "Su valor de expectativa de vida saludable es 76.953.\n"
     ]
    }
   ],
   "source": [
    "# Filtrar el DataFrame 'df_principal' para obtener solo las filas correspondientes al año 2021\n",
    "df_2021 = df_principal[df_principal['Year'] == 2021]\n",
    "\n",
    "# Encuentrar el país con la mayor expectativa de vida saludable (HLE) en el año 2021\n",
    "country_with_max_hle = df_2021.loc[df_2021['Healthy life expectancy'].idxmax(), 'Country']\n",
    "\n",
    "# Obtener el valor de la expectativa de vida saludable para el país con el máximo HLE en 2021\n",
    "max_hle_value = df_2021.loc[df_2021['Country'] == country_with_max_hle, 'Healthy life expectancy'].values[0]\n",
    "\n",
    "print(f\"El país con la mayor expectativa de vida saludable en 2021 es {country_with_max_hle}.\")\n",
    "print(f\"Su valor de expectativa de vida saludable es {max_hle_value}.\")\n"
   ]
  },
  {
   "cell_type": "markdown",
   "metadata": {},
   "source": [
    "¿Y cuanto tenia en ese indicador en el 2019?"
   ]
  },
  {
   "cell_type": "code",
   "execution_count": 40,
   "metadata": {},
   "outputs": [
    {
     "name": "stdout",
     "output_type": "stream",
     "text": [
      "El valor que tenía Singapur en 2019 en expectativa de vida saludable es: 77.1\n"
     ]
    }
   ],
   "source": [
    "# Filtrar el DataFrame 'df_principal' para obtener las filas correspondientes a Singapur en el año 2019\n",
    "singapore_2019 = df_principal[(df_principal['Country'] == 'Singapore') & (df_principal['Year'] == 2019)]\n",
    "\n",
    "# Verificar si hay datos disponibles para Singapur en 2019\n",
    "if not singapore_2019.empty:\n",
    "    valor_singapur_2019 = singapore_2019['Healthy life expectancy'].values[0]\n",
    "    print(f\"El valor que tenía Singapur en 2019 en expectativa de vida saludable es: {valor_singapur_2019}\")\n",
    "\n",
    "# Si no hay datos, imprimir un mensaje indicando que no hay datos disponibles para Singapur en 2019\n",
    "else:\n",
    "    print(\"No hay datos disponibles para Singapur en 2019.\")"
   ]
  }
 ],
 "metadata": {
  "kernelspec": {
   "display_name": "base",
   "language": "python",
   "name": "python3"
  },
  "language_info": {
   "codemirror_mode": {
    "name": "ipython",
    "version": 3
   },
   "file_extension": ".py",
   "mimetype": "text/x-python",
   "name": "python",
   "nbconvert_exporter": "python",
   "pygments_lexer": "ipython3",
   "version": "3.11.3"
  }
 },
 "nbformat": 4,
 "nbformat_minor": 2
}
